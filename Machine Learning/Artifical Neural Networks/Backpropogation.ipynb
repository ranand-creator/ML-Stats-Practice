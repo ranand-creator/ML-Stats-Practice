{
 "cells": [
  {
   "cell_type": "markdown",
   "metadata": {},
   "source": [
    "# Backpropogation\n",
    "Backpropogation is the method by which a neural networks learn the appropriate weights and biases to minize a loss function. A neural network passes data forward to calculate a $y$ value, and we can use this to find the gradient of the loss function, $S(w)$, with respect to the weights. The code to complete the function is shown below (original by MIT Lincoln Labroratory's BWSIx, edited by Rathul Anand)."
   ]
  },
  {
   "cell_type": "code",
   "execution_count": 1,
   "metadata": {},
   "outputs": [],
   "source": [
    "import numpy as np"
   ]
  },
  {
   "cell_type": "code",
   "execution_count": 12,
   "metadata": {},
   "outputs": [
    {
     "name": "stdout",
     "output_type": "stream",
     "text": [
      "X = [[ 1.  2.]\n",
      " [ 3. -3.]\n",
      " [-2.  2.]\n",
      " [ 2.  5.]\n",
      " [ 4. -1.]]\n",
      "y = [ -1.4  24.2 -16.2  -5.1  22.9]\n"
     ]
    }
   ],
   "source": [
    "# Data\n",
    "X = np.array([[1., 2.], [3., -3.], [-2., 2.], [2., 5.], [4., -1.]])\n",
    "y_true = np.array([-1.4, 24.2, -16.2, -5.1, 22.9])\n",
    "n_points = X.shape[0]\n",
    "\n",
    "# Update rate\n",
    "alpha = 0.1\n",
    "\n",
    "# Initial guess for weights\n",
    "w = np.array([3., -5.])\n",
    "\n",
    "print('X =', X)\n",
    "print('y =', y_true)"
   ]
  },
  {
   "cell_type": "code",
   "execution_count": 24,
   "metadata": {},
   "outputs": [
    {
     "name": "stdout",
     "output_type": "stream",
     "text": [
      "[1. 2.]\n",
      "-1.4\n",
      "-7.0\n",
      "-1.1199999999999999\n",
      "[1. 2.]\n"
     ]
    }
   ],
   "source": [
    "# Testing\n",
    "p = 0\n",
    "x = X[p]\n",
    "yn = y_true[p]\n",
    "y = np.dot(x, w)\n",
    "print(x)\n",
    "print(yn)\n",
    "print(y)\n",
    "\n",
    "dSdy = (1 / n_points) * (y - yn)\n",
    "dydw = x\n",
    "print(dSdy)\n",
    "print(dydw)"
   ]
  },
  {
   "cell_type": "code",
   "execution_count": 29,
   "metadata": {},
   "outputs": [
    {
     "ename": "KeyboardInterrupt",
     "evalue": "",
     "output_type": "error",
     "traceback": [
      "\u001b[0;31m---------------------------------------------------------------------------\u001b[0m",
      "\u001b[0;31mKeyboardInterrupt\u001b[0m                         Traceback (most recent call last)",
      "\u001b[0;32m<ipython-input-29-744a8734c71c>\u001b[0m in \u001b[0;36m<module>\u001b[0;34m\u001b[0m\n\u001b[1;32m     10\u001b[0m \u001b[0;34m\u001b[0m\u001b[0m\n\u001b[1;32m     11\u001b[0m         \u001b[0;31m# forward pass\u001b[0m\u001b[0;34m\u001b[0m\u001b[0;34m\u001b[0m\u001b[0;34m\u001b[0m\u001b[0m\n\u001b[0;32m---> 12\u001b[0;31m         \u001b[0my\u001b[0m \u001b[0;34m=\u001b[0m \u001b[0mnp\u001b[0m\u001b[0;34m.\u001b[0m\u001b[0mdot\u001b[0m\u001b[0;34m(\u001b[0m\u001b[0mx\u001b[0m\u001b[0;34m,\u001b[0m \u001b[0mw\u001b[0m\u001b[0;34m)\u001b[0m\u001b[0;34m\u001b[0m\u001b[0;34m\u001b[0m\u001b[0m\n\u001b[0m\u001b[1;32m     13\u001b[0m \u001b[0;34m\u001b[0m\u001b[0m\n\u001b[1;32m     14\u001b[0m         \u001b[0;31m# backward pass\u001b[0m\u001b[0;34m\u001b[0m\u001b[0;34m\u001b[0m\u001b[0;34m\u001b[0m\u001b[0m\n",
      "\u001b[0;32m<__array_function__ internals>\u001b[0m in \u001b[0;36mdot\u001b[0;34m(*args, **kwargs)\u001b[0m\n",
      "\u001b[0;31mKeyboardInterrupt\u001b[0m: "
     ]
    }
   ],
   "source": [
    "k = 100000\n",
    "\n",
    "# Perform k iterations\n",
    "for iter in range(k):\n",
    "\n",
    "    # iterate over each data point\n",
    "    for p in range(n_points):\n",
    "        x = X[p]\n",
    "        yn = y_true[p]\n",
    "\n",
    "        # forward pass\n",
    "        y = np.dot(x, w) \n",
    "\n",
    "        # backward pass\n",
    "        dSdy = (1 / n_points) * (y - yn)\n",
    "        dydw = x\n",
    "        dSdw = dSdy * dydw\n",
    "\n",
    "        # update w\n",
    "        w = w - alpha * dSdw"
   ]
  },
  {
   "cell_type": "code",
   "execution_count": 26,
   "metadata": {},
   "outputs": [
    {
     "data": {
      "text/plain": [
       "array([ 4.99122455, -3.03531958])"
      ]
     },
     "execution_count": 26,
     "metadata": {},
     "output_type": "execute_result"
    }
   ],
   "source": [
    "w"
   ]
  }
 ],
 "metadata": {
  "kernelspec": {
   "display_name": "Python 3",
   "language": "python",
   "name": "python3"
  },
  "language_info": {
   "codemirror_mode": {
    "name": "ipython",
    "version": 3
   },
   "file_extension": ".py",
   "mimetype": "text/x-python",
   "name": "python",
   "nbconvert_exporter": "python",
   "pygments_lexer": "ipython3",
   "version": "3.8.5"
  }
 },
 "nbformat": 4,
 "nbformat_minor": 2
}
