{
 "metadata": {
  "language_info": {
   "codemirror_mode": {
    "name": "ipython",
    "version": 3
   },
   "file_extension": ".py",
   "mimetype": "text/x-python",
   "name": "python",
   "nbconvert_exporter": "python",
   "pygments_lexer": "ipython3",
   "version": "3.8.5"
  },
  "orig_nbformat": 2,
  "kernelspec": {
   "name": "python3",
   "display_name": "Python 3",
   "language": "python"
  }
 },
 "nbformat": 4,
 "nbformat_minor": 2,
 "cells": [
  {
   "cell_type": "code",
   "execution_count": 32,
   "metadata": {},
   "outputs": [],
   "source": [
    "import pickle\n",
    "import pandas\n",
    "import numpy as np"
   ]
  },
  {
   "cell_type": "code",
   "execution_count": 3,
   "metadata": {},
   "outputs": [],
   "source": [
    "data = pickle.load(open('gauss_data.p', 'rb'))"
   ]
  },
  {
   "cell_type": "code",
   "execution_count": 9,
   "metadata": {},
   "outputs": [
    {
     "output_type": "execute_result",
     "data": {
      "text/plain": [
       "     dist_0     dist_1    dist_2     dist_3    dist_4      dist_5\n",
       "0  6.398750 -12.924829  3.818315  19.287197  4.330135 -100.341771\n",
       "1  4.675996 -12.375784  2.331401  19.632544 -1.439021  -90.225477\n",
       "2  5.627294 -11.822885  2.576670  19.239539  4.055282  -95.718027\n",
       "3  5.403728 -12.499533  3.164076  17.543545 -0.142891  -83.090755\n",
       "4  3.313659 -11.923530  3.960696  18.497255 -1.793503  -95.984501"
      ],
      "text/html": "<div>\n<style scoped>\n    .dataframe tbody tr th:only-of-type {\n        vertical-align: middle;\n    }\n\n    .dataframe tbody tr th {\n        vertical-align: top;\n    }\n\n    .dataframe thead th {\n        text-align: right;\n    }\n</style>\n<table border=\"1\" class=\"dataframe\">\n  <thead>\n    <tr style=\"text-align: right;\">\n      <th></th>\n      <th>dist_0</th>\n      <th>dist_1</th>\n      <th>dist_2</th>\n      <th>dist_3</th>\n      <th>dist_4</th>\n      <th>dist_5</th>\n    </tr>\n  </thead>\n  <tbody>\n    <tr>\n      <th>0</th>\n      <td>6.398750</td>\n      <td>-12.924829</td>\n      <td>3.818315</td>\n      <td>19.287197</td>\n      <td>4.330135</td>\n      <td>-100.341771</td>\n    </tr>\n    <tr>\n      <th>1</th>\n      <td>4.675996</td>\n      <td>-12.375784</td>\n      <td>2.331401</td>\n      <td>19.632544</td>\n      <td>-1.439021</td>\n      <td>-90.225477</td>\n    </tr>\n    <tr>\n      <th>2</th>\n      <td>5.627294</td>\n      <td>-11.822885</td>\n      <td>2.576670</td>\n      <td>19.239539</td>\n      <td>4.055282</td>\n      <td>-95.718027</td>\n    </tr>\n    <tr>\n      <th>3</th>\n      <td>5.403728</td>\n      <td>-12.499533</td>\n      <td>3.164076</td>\n      <td>17.543545</td>\n      <td>-0.142891</td>\n      <td>-83.090755</td>\n    </tr>\n    <tr>\n      <th>4</th>\n      <td>3.313659</td>\n      <td>-11.923530</td>\n      <td>3.960696</td>\n      <td>18.497255</td>\n      <td>-1.793503</td>\n      <td>-95.984501</td>\n    </tr>\n  </tbody>\n</table>\n</div>"
     },
     "metadata": {},
     "execution_count": 9
    }
   ],
   "source": [
    "data.head()"
   ]
  },
  {
   "cell_type": "code",
   "execution_count": 16,
   "metadata": {},
   "outputs": [
    {
     "output_type": "execute_result",
     "data": {
      "text/plain": [
       "(1000, 6)"
      ]
     },
     "metadata": {},
     "execution_count": 16
    }
   ],
   "source": [
    "data.shape"
   ]
  },
  {
   "cell_type": "code",
   "execution_count": 10,
   "metadata": {},
   "outputs": [
    {
     "output_type": "stream",
     "name": "stdout",
     "text": [
      "<class 'pandas.core.frame.DataFrame'>\nRangeIndex: 1000 entries, 0 to 999\nData columns (total 6 columns):\n #   Column  Non-Null Count  Dtype  \n---  ------  --------------  -----  \n 0   dist_0  1000 non-null   float64\n 1   dist_1  1000 non-null   float64\n 2   dist_2  1000 non-null   float64\n 3   dist_3  1000 non-null   float64\n 4   dist_4  1000 non-null   float64\n 5   dist_5  1000 non-null   float64\ndtypes: float64(6)\nmemory usage: 47.0 KB\n"
     ]
    }
   ],
   "source": [
    "data.info()"
   ]
  },
  {
   "cell_type": "code",
   "execution_count": 39,
   "metadata": {},
   "outputs": [
    {
     "output_type": "execute_result",
     "data": {
      "text/plain": [
       "(1000,)"
      ]
     },
     "metadata": {},
     "execution_count": 39
    }
   ],
   "source": [
    "r = data.to_numpy()[:,0]\n",
    "r.shape"
   ]
  },
  {
   "cell_type": "code",
   "execution_count": 54,
   "metadata": {},
   "outputs": [
    {
     "output_type": "stream",
     "name": "stdout",
     "text": [
      "μ = 4.979292999206296\n"
     ]
    }
   ],
   "source": [
    "u = (1/r.size) * np.sum(r)\n",
    "print('μ =', u)"
   ]
  },
  {
   "cell_type": "code",
   "execution_count": 55,
   "metadata": {},
   "outputs": [
    {
     "output_type": "stream",
     "name": "stdout",
     "text": [
      "σ^2 = 0.9946833622916826\n"
     ]
    }
   ],
   "source": [
    "variance = np.sum((r - u) ** 2) * (1/r.size)\n",
    "print('σ^2 =', variance)"
   ]
  },
  {
   "cell_type": "code",
   "execution_count": 60,
   "metadata": {},
   "outputs": [
    {
     "output_type": "stream",
     "name": "stdout",
     "text": [
      "1:\nμ = 4.979292999206296\nσ^2 = 0.9956790413330157\n\n2:\nμ = -11.999397286849158\nσ^2 = 0.9976851594443326\n\n3:\nμ = 3.001416341529989\nσ^2 = 0.9473418746191629\n\n4:\nμ = 17.946090206400086\nσ^2 = 3.7200390745191454\n\n5:\nμ = 0.21904143800723194\nσ^2 = 14.007807960718548\n\n6:\nμ = -99.9546670256619\nσ^2 = 103.2339725233648\n\nProblem 1: -99.9546670256619\nProblem 2: 103.2339725233648\n"
     ]
    }
   ],
   "source": [
    "min_mean = sys.maxsize\n",
    "max_var = -1\n",
    "for ri in range(6):\n",
    "    print(str((ri+1)) + ':')\n",
    "    r = data.to_numpy()[:,ri]\n",
    "    u = (1/r.size) * np.sum(r)\n",
    "    print('μ =', u)\n",
    "    variance = np.sum((r - u) ** 2) * (1/(r.size-1))\n",
    "    print('σ^2 =', variance)\n",
    "    print()\n",
    "    min_mean = min(min_mean, u)\n",
    "    max_var = max(max_var, variance)\n",
    "\n",
    "print('Problem 1:', min_mean)\n",
    "print('Problem 2:', max_var)"
   ]
  }
 ]
}